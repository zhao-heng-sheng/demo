{
 "cells": [
  {
   "cell_type": "code",
   "execution_count": 3,
   "metadata": {},
   "outputs": [],
   "source": [
    "import {load} from 'dotenv'\n",
    "const env = await load()\n",
    "const process = {env}"
   ]
  },
  {
   "cell_type": "code",
   "execution_count": 8,
   "metadata": {},
   "outputs": [
    {
     "data": {
      "text/plain": [
       "AIMessage {\n",
       "  lc_serializable: \u001b[33mtrue\u001b[39m,\n",
       "  lc_kwargs: {\n",
       "    content: \u001b[32m\"为什么月亮会穿裤子？\\n因为要遮住它的月亮！\"\u001b[39m,\n",
       "    tool_calls: [],\n",
       "    invalid_tool_calls: [],\n",
       "    additional_kwargs: { function_call: \u001b[90mundefined\u001b[39m, tool_calls: \u001b[90mundefined\u001b[39m },\n",
       "    response_metadata: {}\n",
       "  },\n",
       "  lc_namespace: [ \u001b[32m\"langchain_core\"\u001b[39m, \u001b[32m\"messages\"\u001b[39m ],\n",
       "  content: \u001b[32m\"为什么月亮会穿裤子？\\n因为要遮住它的月亮！\"\u001b[39m,\n",
       "  name: \u001b[90mundefined\u001b[39m,\n",
       "  additional_kwargs: { function_call: \u001b[90mundefined\u001b[39m, tool_calls: \u001b[90mundefined\u001b[39m },\n",
       "  response_metadata: {\n",
       "    tokenUsage: { completionTokens: \u001b[33m28\u001b[39m, promptTokens: \u001b[33m13\u001b[39m, totalTokens: \u001b[33m41\u001b[39m },\n",
       "    finish_reason: \u001b[32m\"stop\"\u001b[39m\n",
       "  },\n",
       "  tool_calls: [],\n",
       "  invalid_tool_calls: []\n",
       "}"
      ]
     },
     "execution_count": 8,
     "metadata": {},
     "output_type": "execute_result"
    }
   ],
   "source": [
    "import { ChatOpenAI } from \"@langchain/openai\";\n",
    "import { HumanMessage } from \"@langchain/core/messages\";\n",
    "const chatModel = new ChatOpenAI({\n",
    "  configuration:{\n",
    "    baseURL: process.env.baseURL,\n",
    "  }\n",
    "})\n",
    "await chatModel.invoke([\n",
    "  new HumanMessage('请讲个笑话')\n",
    "])\n"
   ]
  },
  {
   "cell_type": "code",
   "execution_count": 9,
   "metadata": {},
   "outputs": [
    {
     "data": {
      "text/plain": [
       "\u001b[32m\"为什么足球场上不许使用筷子呢？因为只有一个球！\"\u001b[39m"
      ]
     },
     "execution_count": 9,
     "metadata": {},
     "output_type": "execute_result"
    }
   ],
   "source": [
    "import { ChatOpenAI } from \"@langchain/openai\";\n",
    "import { HumanMessage } from \"@langchain/core/messages\";\n",
    "import { StringOutputParser } from \"@langchain/core/output_parsers\";\n",
    "const chatModel = new ChatOpenAI({\n",
    "  configuration:{\n",
    "    baseURL: process.env.baseURL,\n",
    "  },\n",
    "})\n",
    "const outputPrase = new StringOutputParser()\n",
    "const simpleChain = chatModel.pipe(outputPrase)\n",
    "await simpleChain.invoke([\n",
    "  new HumanMessage('请讲个笑话')\n",
    "])"
   ]
  },
  {
   "cell_type": "code",
   "execution_count": 1,
   "metadata": {},
   "outputs": [
    {
     "ename": "ReferenceError",
     "evalue": "simpleChain is not defined",
     "output_type": "error",
     "traceback": [
      "Stack trace:",
      "ReferenceError: simpleChain is not defined",
      "    at <anonymous>:1:22"
     ]
    }
   ],
   "source": [
    "await simpleChain.batch([\n",
    "  [\n",
    "    new HumanMessage('34534264*1234等于多少？')\n",
    "  ],\n",
    "  [\n",
    "    new HumanMessage('蛇真的能吞掉大象吗？')\n",
    "  ],\n",
    "])"
   ]
  },
  {
   "cell_type": "code",
   "execution_count": null,
   "metadata": {},
   "outputs": [],
   "source": []
  }
 ],
 "metadata": {
  "kernelspec": {
   "display_name": "Deno",
   "language": "typescript",
   "name": "deno"
  },
  "language_info": {
   "file_extension": ".ts",
   "mimetype": "text/x.typescript",
   "name": "typescript",
   "nb_converter": "script",
   "pygments_lexer": "typescript",
   "version": "5.3.3"
  }
 },
 "nbformat": 4,
 "nbformat_minor": 2
}

{
 "cells": [
  {
   "cell_type": "code",
   "execution_count": 1,
   "metadata": {},
   "outputs": [
    {
     "name": "stderr",
     "output_type": "stream",
     "text": [
      "[WARNING]: Importing from \"langchain/prompts\" is deprecated.\n",
      "\n",
      "Instead, please import from \"@langchain/core/prompts\".\n",
      "\n",
      "This will be mandatory after the next \"langchain\" minor version bump to 0.2.\n"
     ]
    },
    {
     "ename": "Error",
     "evalue": "No tools_call in message [{\"message\":{\"lc\":1,\"type\":\"constructor\",\"id\":[\"langchain_core\",\"messages\",\"AIMessage\"],\"kwargs\":{\"content\":\"[情绪]\",\"tool_calls\":[],\"invalid_tool_calls\":[],\"additional_kwargs\":{},\"response_metadata\":{\"tokenUsage\":{\"completionTokens\":3,\"promptTokens\":26,\"totalTokens\":29},\"finish_reason\":\"stop\"}}},\"text\":\"[情绪]\"}]",
     "output_type": "error",
     "traceback": [
      "Stack trace:",
      "Error: No tools_call in message [{\"message\":{\"lc\":1,\"type\":\"constructor\",\"id\":[\"langchain_core\",\"messages\",\"AIMessage\"],\"kwargs\":{\"content\":\"[情绪]\",\"tool_calls\":[],\"invalid_tool_calls\":[],\"additional_kwargs\":{},\"response_metadata\":{\"tokenUsage\":{\"completionTokens\":3,\"promptTokens\":26,\"totalTokens\":29},\"finish_reason\":\"stop\"}}},\"text\":\"[情绪]\"}]",
      "    at JsonOutputToolsParser.parseResult (file:///C:/Users/zhaoHS/AppData/Local/deno/npm/registry.npmjs.org/@langchain/core/0.1.48/dist/output_parsers/openai_tools/json_output_tools_parsers.js:40:19)",
      "    at JsonOutputToolsParser._callWithConfig (file:///C:/Users/zhaoHS/AppData/Local/deno/npm/registry.npmjs.org/@langchain/core/0.1.48/dist/output_parsers/base.js:42:72)",
      "    at JsonOutputToolsParser._callWithConfig (file:///C:/Users/zhaoHS/AppData/Local/deno/npm/registry.npmjs.org/@langchain/core/0.1.48/dist/runnables/base.js:187:33)",
      "    at eventLoopTick (ext:core/01_core.js:169:7)",
      "    at async RunnableSequence.invoke (file:///C:/Users/zhaoHS/AppData/Local/deno/npm/registry.npmjs.org/@langchain/core/0.1.62_1/dist/runnables/base.js:1035:27)",
      "    at async <anonymous>:55:11"
     ]
    }
   ],
   "source": [
    "import z from \"zod\";\n",
    "import { zodToJsonSchema } from \"zod-to-json-schema\";\n",
    "import { ChatOpenAI } from \"@langchain/openai\";\n",
    "import { JsonOutputToolsParser } from \"@langchain/core/output_parsers/openai_tools\";\n",
    "import { ChatPromptTemplate } from \"langchain/prompts\";\n",
    "import { load } from \"dotenv\";\n",
    "const env = await load();\n",
    "const process = { env };\n",
    "const taggingSchema = z.object({ emotion: z.enum([\"pos\", \"neg\", \"neutral\"]).describe(\"文本的情感\"), language: z.string().describe(\"文本的核心语言（应为ISO 639-1代码）\") });\n",
    "const model = new ChatOpenAI({\n",
    "  configuration: {\n",
    "    baseURL: process.env.baseURL,\n",
    "    temperature: 0,\n",
    "  },\n",
    "  modelName: process.env.model,\n",
    "});\n",
    "const modelTagging = model.bind({\n",
    "  tools: [\n",
    "    {\n",
    "      type: \"function\",\n",
    "      function: {\n",
    "        name: \"tagging\",\n",
    "        description: \"为特定的文本片段打上标签\",\n",
    "        parameters: zodToJsonSchema(taggingSchema),\n",
    "      },\n",
    "    },\n",
    "  ],\n",
    "  tool_choice: {\n",
    "    type: \"function\",\n",
    "    function: { name: \"tagging\" },\n",
    "  },\n",
    "});\n",
    "const prompt = ChatPromptTemplate.fromMessages([\n",
    "  [\"system\", \"仔细思考，你有充足的时间进行严谨的思考，然后按照指示对文本进行标记\"],\n",
    "  [\"human\", \"{input}\"],\n",
    "]);\n",
    "const chain = prompt.pipe(modelTagging).pipe(new JsonOutputToolsParser());\n",
    "let res = await chain.invoke({\n",
    "  input: \"写代码太难了，爷不干了！\",\n",
    "});\n",
    "console.log(res);\n"
   ]
  }
 ],
 "metadata": {
  "kernelspec": {
   "display_name": "Deno",
   "language": "typescript",
   "name": "deno"
  },
  "language_info": {
   "file_extension": ".ts",
   "mimetype": "text/x.typescript",
   "name": "typescript",
   "nb_converter": "script",
   "pygments_lexer": "typescript",
   "version": "5.3.3"
  }
 },
 "nbformat": 4,
 "nbformat_minor": 2
}

{
 "cells": [
  {
   "cell_type": "code",
   "execution_count": 6,
   "metadata": {},
   "outputs": [
    {
     "name": "stdout",
     "output_type": "stream",
     "text": [
      "[ { type: \"tagging\", args: { emotion: \"neg\", language: \"zh\" } } ]\n"
     ]
    },
    {
     "ename": "",
     "evalue": "",
     "output_type": "error",
     "traceback": [
      "\u001b[1;31m在当前单元格或上一个单元格中执行代码时 Kernel 崩溃。\n",
      "\u001b[1;31m请查看单元格中的代码，以确定故障的可能原因。\n",
      "\u001b[1;31m单击<a href='https://aka.ms/vscodeJupyterKernelCrash'>此处</a>了解详细信息。\n",
      "\u001b[1;31m有关更多详细信息，请查看 Jupyter <a href='command:jupyter.viewOutput'>log</a>。"
     ]
    }
   ],
   "source": [
    "import z from \"zod\";\n",
    "import { zodToJsonSchema } from \"zod-to-json-schema\";\n",
    "import { ChatOpenAI } from \"@langchain/openai\";\n",
    "import { JsonOutputToolsParser } from \"@langchain/core/output_parsers/openai_tools\";\n",
    "import { ChatPromptTemplate } from \"langchain/prompts\";\n",
    "import { load } from \"dotenv\";\n",
    "const env = await load();\n",
    "const process = { env };\n",
    "const taggingSchema = z.object({ emotion: z.enum([\"pos\", \"neg\", \"neutral\"]).describe(\"文本的情感\"), language: z.string().describe(\"文本的核心语言（应为ISO 639-1代码）\") });\n",
    "const model = new ChatOpenAI({\n",
    "  configuration: {\n",
    "    baseURL: process.env.baseURL,\n",
    "    temperature: 0,\n",
    "  },\n",
    "});\n",
    "const modelTagging = model.bind({\n",
    "  tools: [\n",
    "    {\n",
    "      type: \"function\",\n",
    "      function: {\n",
    "        name: \"tagging\",\n",
    "        description: \"为特定的文本片段打上标签\",\n",
    "        parameters: zodToJsonSchema(taggingSchema),\n",
    "      },\n",
    "    },\n",
    "  ],\n",
    "  tool_choice: {\n",
    "    type: \"function\",\n",
    "    function: { name: \"tagging\" },\n",
    "  },\n",
    "});\n",
    "const prompt = ChatPromptTemplate.fromMessages([\n",
    "  [\"system\", \"仔细思考，你有充足的时间进行严谨的思考，然后按照指示对文本进行标记\"],\n",
    "  [\"human\", \"{input}\"],\n",
    "]);\n",
    "const chain = prompt.pipe(modelTagging).pipe(new JsonOutputToolsParser());\n",
    "let res = await chain.invoke({\n",
    "  input: \"写代码太难了，爷不干了！\",\n",
    "});\n",
    "console.log(res);\n"
   ]
  }
 ],
 "metadata": {
  "kernelspec": {
   "display_name": "Deno",
   "language": "typescript",
   "name": "deno"
  },
  "language_info": {
   "file_extension": ".ts",
   "mimetype": "text/x.typescript",
   "name": "typescript",
   "nb_converter": "script",
   "pygments_lexer": "typescript",
   "version": "5.3.3"
  }
 },
 "nbformat": 4,
 "nbformat_minor": 2
}

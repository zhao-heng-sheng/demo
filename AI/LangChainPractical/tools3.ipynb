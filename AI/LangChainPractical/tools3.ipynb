{
 "cells": [
  {
   "cell_type": "code",
   "execution_count": 5,
   "metadata": {},
   "outputs": [
    {
     "ename": "TypeError",
     "evalue": "array.map is not a function",
     "output_type": "error",
     "traceback": [
      "Stack trace:",
      "TypeError: array.map is not a function",
      "    at Object.joinValues (file:///C:/Users/zhaoHS/AppData/Local/deno/npm/registry.npmjs.org/zod/3.23.8/lib/index.mjs:53:14)",
      "    at ZodEnum._parse (file:///C:/Users/zhaoHS/AppData/Local/deno/npm/registry.npmjs.org/zod/3.23.8/lib/index.mjs:3475:32)",
      "    at ZodEnum._parseSync (file:///C:/Users/zhaoHS/AppData/Local/deno/npm/registry.npmjs.org/zod/3.23.8/lib/index.mjs:678:29)",
      "    at ZodEnum.safeParse (file:///C:/Users/zhaoHS/AppData/Local/deno/npm/registry.npmjs.org/zod/3.23.8/lib/index.mjs:708:29)",
      "    at ZodEnum.isOptional (file:///C:/Users/zhaoHS/AppData/Local/deno/npm/registry.npmjs.org/zod/3.23.8/lib/index.mjs:865:21)",
      "    at Object.entries.reduce.properties (file:///C:/Users/zhaoHS/AppData/Local/deno/npm/registry.npmjs.org/zod-to-json-schema/3.23.0/dist/esm/parsers/object.js:88:35)",
      "    at Array.reduce (<anonymous>)",
      "    at parseObjectDef (file:///C:/Users/zhaoHS/AppData/Local/deno/npm/registry.npmjs.org/zod-to-json-schema/3.23.0/dist/esm/parsers/object.js:76:40)",
      "    at selectParser (file:///C:/Users/zhaoHS/AppData/Local/deno/npm/registry.npmjs.org/zod-to-json-schema/3.23.0/dist/esm/parseDef.js:88:20)",
      "    at parseDef (file:///C:/Users/zhaoHS/AppData/Local/deno/npm/registry.npmjs.org/zod-to-json-schema/3.23.0/dist/esm/parseDef.js:49:24)"
     ]
    }
   ],
   "source": [
    "import z from \"zod\";\n",
    "import { zodToJsonSchema } from \"zod-to-json-schema\";\n",
    "import { ChatOpenAI } from \"@langchain/openai\";\n",
    "import { JsonOutputToolsParser } from \"@langchain/core/output_parsers/openai_tools\";\n",
    "import { ChatPromptTemplate } from \"langchain/prompts\";\n",
    "import { load } from \"dotenv\";\n",
    "const env = await load();\n",
    "const process = { env };\n",
    "const taggingSchema = z.object({ emotion: z.enum([\"pos\", \"neg\", \"neutral\"]).describe(\"文本的情感\"), language: z.string().describe(\"文本的核心语言（应为ISO 639-1代码）\") });\n",
    "const model = new ChatOpenAI({\n",
    "  configuration: {\n",
    "    baseURL: process.env.baseURL,\n",
    "    temperature: 0,\n",
    "  },\n",
    "});\n",
    "const modelTagging = model.bind({\n",
    "  tools: [\n",
    "    {\n",
    "      type: \"function\",\n",
    "      function: {\n",
    "        name: \"tagging\",\n",
    "        description: \"为特定的文本片段打上标签\",\n",
    "        parameters: zodToJsonSchema(taggingSchema),\n",
    "      },\n",
    "    },\n",
    "  ],\n",
    "  tool_choice: {\n",
    "    type: \"function\",\n",
    "    function: { name: \"tagging\" },\n",
    "  },\n",
    "});\n",
    "const prompt = ChatPromptTemplate.fromMessages([\n",
    "  [\"system\", \"仔细思考，你有充足的时间进行严谨的思考，然后按照指示对文本进行标记\"],\n",
    "  [\"human\", \"{input}\"],\n",
    "]);\n",
    "const chain = prompt.pipe(modelTagging).pipe(new JsonOutputToolsParser());\n",
    "let res = await chain.invoke({\n",
    "  input: \"写代码太难了，爷不干了！\",\n",
    "});\n",
    "console.log(res);\n"
   ]
  }
 ],
 "metadata": {
  "kernelspec": {
   "display_name": "Deno",
   "language": "typescript",
   "name": "deno"
  },
  "language_info": {
   "file_extension": ".ts",
   "mimetype": "text/x.typescript",
   "name": "typescript",
   "nb_converter": "script",
   "pygments_lexer": "typescript",
   "version": "5.3.3"
  }
 },
 "nbformat": 4,
 "nbformat_minor": 2
}

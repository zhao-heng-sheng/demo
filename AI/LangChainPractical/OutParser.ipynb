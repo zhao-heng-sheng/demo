{
 "cells": [
  {
   "cell_type": "code",
   "execution_count": 7,
   "metadata": {},
   "outputs": [],
   "source": [
    "import { ChatOpenAI } from \"@langchain/openai\";\n",
    "import { HumanMessage } from \"@langchain/core/messages\";\n",
    "import { StringOutputParser,StructuredOutputParser,CommaSeparatedListOutputParser } from \"@langchain/core/output_parsers\";\n",
    "import {PromptTemplate} from '@langchain/core/prompts'\n",
    "import { load } from \"dotenv\";\n",
    "let env = await load();\n",
    "let process = { env };\n",
    "\n",
    "let model = new ChatOpenAI({\n",
    "    configuration: {\n",
    "        baseURL: process.env.baseURL,\n",
    "    },\n",
    "});\n"
   ]
  },
  {
   "cell_type": "markdown",
   "metadata": {},
   "source": [
    "String Output Parset\n",
    "获取文本内容"
   ]
  },
  {
   "cell_type": "code",
   "execution_count": 4,
   "metadata": {},
   "outputs": [
    {
     "data": {
      "text/plain": [
       "\u001b[32m\"为什么考试的时候总是感觉时间过得特别快？\\n因为把卷子翻过来的那一刻，所有的答案都跑到脑后去了。🤣\"\u001b[39m"
      ]
     },
     "execution_count": 4,
     "metadata": {},
     "output_type": "execute_result"
    }
   ],
   "source": [
    "let parser = new StringOutputParser();\n",
    "let chain = model.pipe(parser);\n",
    "await chain.invoke([new HumanMessage(\"给我讲个笑话\")]);"
   ]
  },
  {
   "cell_type": "markdown",
   "metadata": {},
   "source": [
    "StructuredOutputParser\n",
    "引导模型以你需要的格式进行输出"
   ]
  },
  {
   "cell_type": "code",
   "execution_count": 5,
   "metadata": {},
   "outputs": [
    {
     "name": "stdout",
     "output_type": "stream",
     "text": [
      "{\n",
      "  answer: \"达·芬奇是蒙娜丽莎的作者。\",\n",
      "  evidence: \"达·芬奇在文艺复兴时期绘制了蒙娜丽莎。\",\n",
      "  confidence: \"100%\"\n",
      "}\n"
     ]
    }
   ],
   "source": [
    "let parser = StructuredOutputParser.fromNamesAndDescriptions({\n",
    "    answer: \"用户问题的答案\",\n",
    "    evidence: \"你回答用户问题所依据的答案\",\n",
    "    confidence: \"问题答案的可信度评分，格式是百分数\",\n",
    "});\n",
    "let prompt = PromptTemplate.fromTemplate(\"尽可能的回答用户的问题\\n{instructions} \\n{question}\");\n",
    "let chain = prompt.pipe(model).pipe(parser);\n",
    "let res = await chain.invoke({\n",
    "    question: \"蒙娜丽莎的作者是谁？是什么时候绘制的\",\n",
    "    instructions: parser.getFormatInstructions(),\n",
    "});\n",
    "console.log(res);\n"
   ]
  },
  {
   "cell_type": "markdown",
   "metadata": {},
   "source": [
    "List Output Parser\n",
    "数组格式输出"
   ]
  },
  {
   "cell_type": "code",
   "execution_count": 11,
   "metadata": {},
   "outputs": [
    {
     "name": "stdout",
     "output_type": "stream",
     "text": [
      "Your response should be a list of comma separated values, eg: `foo, bar, baz`\n"
     ]
    }
   ],
   "source": [
    "let parser = new CommaSeparatedListOutputParser();\n",
    "console.log(parser.getFormatInstructions());\n",
    "let prompt = PromptTemplate.fromTemplate(\"列出一些{name}喜欢的食物\\n{instructions}\");\n",
    "let chain = prompt.pipe(model).pipe(parser)\n",
    "let res = await chain.invoke({\n",
    "  name:'周恩来',\n",
    "  instructions:parser.getFormatInstructions()\n",
    "})\n",
    "console.log(res)\n"
   ]
  }
 ],
 "metadata": {
  "kernelspec": {
   "display_name": "Deno",
   "language": "typescript",
   "name": "deno"
  },
  "language_info": {
   "file_extension": ".ts",
   "mimetype": "text/x.typescript",
   "name": "typescript",
   "nb_converter": "script",
   "pygments_lexer": "typescript",
   "version": "5.3.3"
  }
 },
 "nbformat": 4,
 "nbformat_minor": 2
}

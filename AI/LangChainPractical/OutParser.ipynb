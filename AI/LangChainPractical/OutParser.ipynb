{
 "cells": [
  {
   "cell_type": "code",
   "execution_count": 10,
   "metadata": {},
   "outputs": [],
   "source": [
    "import { ChatOpenAI } from \"@langchain/openai\";\n",
    "import { HumanMessage } from \"@langchain/core/messages\";\n",
    "import { StringOutputParser, StructuredOutputParser, CommaSeparatedListOutputParser, } from \"@langchain/core/output_parsers\";\n",
    "import { PromptTemplate } from \"@langchain/core/prompts\";\n",
    "import { load } from \"dotenv\";\n",
    "let env = await load();\n",
    "let process = { env };\n",
    "\n",
    "let model = new ChatOpenAI({\n",
    "    configuration: {\n",
    "        baseURL: process.env.baseURL,\n",
    "    },\n",
    "});\n"
   ]
  },
  {
   "cell_type": "markdown",
   "metadata": {},
   "source": [
    "String Output Parset 获取文本内容"
   ]
  },
  {
   "cell_type": "code",
   "execution_count": 2,
   "metadata": {},
   "outputs": [
    {
     "data": {
      "text/plain": [
       "\u001b[32m\"为什么鸡会过马路？\\n因为它想证明自己不是只会在鸡笼里走！哈哈哈！\"\u001b[39m"
      ]
     },
     "execution_count": 2,
     "metadata": {},
     "output_type": "execute_result"
    }
   ],
   "source": [
    "let parser = new StringOutputParser();\n",
    "let chain = model.pipe(parser);\n",
    "await chain.invoke([new HumanMessage(\"给我讲个笑话\")]);"
   ]
  },
  {
   "cell_type": "markdown",
   "metadata": {},
   "source": [
    "StructuredOutputParser 引导模型以你需要的格式进行输出"
   ]
  },
  {
   "cell_type": "code",
   "execution_count": 3,
   "metadata": {},
   "outputs": [
    {
     "name": "stdout",
     "output_type": "stream",
     "text": [
      "{\n",
      "  answer: \"莱昂纳多·达·芬奇是蒙娜丽莎的作者。\",\n",
      "  evidence: \"根据艺术历史记录和文献记载\",\n",
      "  confidence: \"95%\"\n",
      "}\n"
     ]
    }
   ],
   "source": [
    "let parser = StructuredOutputParser.fromNamesAndDescriptions({\n",
    "    answer: \"用户问题的答案\",\n",
    "    evidence: \"你回答用户问题所依据的答案\",\n",
    "    confidence: \"问题答案的可信度评分，格式是百分数\",\n",
    "});\n",
    "let prompt = PromptTemplate.fromTemplate(\"尽可能的回答用户的问题\\n{instructions} \\n{question}\");\n",
    "let chain = prompt.pipe(model).pipe(parser);\n",
    "let res = await chain.invoke({\n",
    "    question: \"蒙娜丽莎的作者是谁？是什么时候绘制的\",\n",
    "    instructions: parser.getFormatInstructions(),\n",
    "});\n",
    "console.log(res);\n"
   ]
  },
  {
   "cell_type": "markdown",
   "metadata": {},
   "source": [
    "List Output Parser 数组格式输出"
   ]
  },
  {
   "cell_type": "code",
   "execution_count": 4,
   "metadata": {},
   "outputs": [
    {
     "name": "stdout",
     "output_type": "stream",
     "text": [
      "Your response should be a list of comma separated values, eg: `foo, bar, baz`\n",
      "[ \"鱼香肉丝\", \"啤酒\", \"芝麻糖\", \"盐水鸭\", \"包子\" ]\n"
     ]
    }
   ],
   "source": [
    "let parser = new CommaSeparatedListOutputParser();\n",
    "console.log(parser.getFormatInstructions());\n",
    "let prompt = PromptTemplate.fromTemplate(\"列出一些{name}喜欢的食物\\n{instructions}\");\n",
    "let chain = prompt.pipe(model).pipe(parser)\n",
    "let res = await chain.invoke({\n",
    "  name:'周恩来',\n",
    "  instructions:parser.getFormatInstructions()\n",
    "})\n",
    "console.log(res)\n"
   ]
  },
  {
   "cell_type": "markdown",
   "metadata": {},
   "source": [
    "Auto Fix Parser 输出验证"
   ]
  },
  {
   "cell_type": "code",
   "execution_count": 13,
   "metadata": {},
   "outputs": [
    {
     "name": "stdout",
     "output_type": "stream",
     "text": [
      "{ answer: \"莱昂纳尔达芬奇\", confidence: 95 }\n"
     ]
    }
   ],
   "source": [
    "import { z } from \"zod\";\n",
    "\n",
    "let schema = z.object({\n",
    "    answer: z.string().describe(\"用户问题的答案\"),\n",
    "    confidence: z.number().min(0).max(100).describe(\"问题答案的可信度评分，满分100分\"),\n",
    "});\n",
    "\n",
    "let parser = StructuredOutputParser.fromZodSchema(schema);\n",
    "let prompt = PromptTemplate.fromTemplate(\"尽可能的回答用户的问题\\n{instructions} \\n{question}\");\n",
    "let chain = prompt.pipe(model).pipe(parser);\n",
    "let res = await chain.invoke({\n",
    "    question: \"蒙娜丽莎的作者是谁？是什么时候绘制的\",\n",
    "    instructions: parser.getFormatInstructions(),\n",
    "});\n",
    "console.log(res);"
   ]
  },
  {
   "cell_type": "code",
   "execution_count": 23,
   "metadata": {},
   "outputs": [
    {
     "ename": "SyntaxError",
     "evalue": "Identifier 'fixParser' has already been declared",
     "output_type": "error",
     "traceback": [
      "Stack trace:",
      "SyntaxError: Identifier 'fixParser' has already been declared"
     ]
    }
   ],
   "source": [
    "import { OutputFixingParser } from \"langchain/output_parsers\";\n",
    "// outputfix修复出错输出\n",
    "let wrongOutput = {\n",
    "  \"answer\": \"蒙娜丽莎的作者是达芬奇，大约在16世纪初期（1503年至1506年之间）开始绘制。\",\n",
    "  \"sources\": \"90%\" \n",
    "};\n",
    "\n",
    "let fixParser = OutputFixingParser.fromLLM(model, parser);\n",
    "let output = await fixParser.parse(JSON.stringify(wrongOutput));\n"
   ]
  }
 ],
 "metadata": {
  "kernelspec": {
   "display_name": "Deno",
   "language": "typescript",
   "name": "deno"
  },
  "language_info": {
   "file_extension": ".ts",
   "mimetype": "text/x.typescript",
   "name": "typescript",
   "nb_converter": "script",
   "pygments_lexer": "typescript",
   "version": "5.3.3"
  }
 },
 "nbformat": 4,
 "nbformat_minor": 2
}

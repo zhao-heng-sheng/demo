{
 "cells": [
  {
   "cell_type": "code",
   "execution_count": 6,
   "metadata": {},
   "outputs": [
    {
     "name": "stdout",
     "output_type": "stream",
     "text": [
      "{\n",
      "  index: 0,\n",
      "  message: {\n",
      "    role: \"assistant\",\n",
      "    content: \"北京的天气因季节和气候影响而有所不同。一般来说，北京地处温带季风气候区，具有明显的四季变化。\\n\" +\n",
      "      \"\\n\" +\n",
      "      \"1. **春季（3月至5月）**：春季北京气温逐渐回暖，但早晚温差较大，白天气温逐渐升高，春雨时节比较多\"... 309 more characters\n",
      "  },\n",
      "  logprobs: null,\n",
      "  finish_reason: \"stop\"\n",
      "}\n"
     ]
    }
   ],
   "source": [
    "import OpenAI from \"openai\";\n",
    "import { load } from \"dotenv\";\n",
    "const env = await load();\n",
    "const process = { env };\n",
    "const openai = new OpenAI({\n",
    "  apiKey: process.env.OPENAI_API_KEY,\n",
    "  baseURL: process.env.baseURL,\n",
    "});\n",
    "function getCurrentWeather({ location, unit = \"fahrenheit\" }) {\n",
    "  console.log(1111)\n",
    "  const weather_info = {\n",
    "    location: location,\n",
    "    temperature: \"72\",\n",
    "    unit: unit,\n",
    "    forecast: [\"sunny\", \"windy\"],\n",
    "  };\n",
    "  return JSON.stringify(weather_info);\n",
    "}\n",
    "const tools = [\n",
    "  {\n",
    "    type: \"function\",\n",
    "    function: {\n",
    "      name: \"getCurrentWeather\",\n",
    "      description: \"Get the current weather in a given location\",\n",
    "      parameters: {\n",
    "        type: \"object\",\n",
    "        properties: {\n",
    "          location: {\n",
    "            type: \"string\",\n",
    "            description: \"The city and state, e.g. San Francisco, CA\",\n",
    "          },\n",
    "          unit: { type: \"string\", enum: [\"celsius\", \"fahrenheit\"] },\n",
    "        },\n",
    "        required: [\"location\"],\n",
    "      },\n",
    "    },\n",
    "  },\n",
    "];\n",
    "const messages = [\n",
    "  {\n",
    "    role: \"user\",\n",
    "    content: \"今天北京的天气怎么样\",\n",
    "  },\n",
    "];\n",
    "\n",
    "const result = await openai.chat.completions.create({\n",
    "  model: \"gpt-3.5-turbo\",\n",
    "  messages,\n",
    "  tools,\n",
    "});\n",
    "console.log(result.choices[0]);\n"
   ]
  }
 ],
 "metadata": {
  "kernelspec": {
   "display_name": "Deno",
   "language": "typescript",
   "name": "deno"
  },
  "language_info": {
   "file_extension": ".ts",
   "mimetype": "text/x.typescript",
   "name": "typescript",
   "nb_converter": "script",
   "pygments_lexer": "typescript",
   "version": "5.3.3"
  }
 },
 "nbformat": 4,
 "nbformat_minor": 2
}

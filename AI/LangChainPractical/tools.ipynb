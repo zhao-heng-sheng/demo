{
 "cells": [
  {
   "cell_type": "code",
   "execution_count": 8,
   "metadata": {},
   "outputs": [
    {
     "ename": "Error",
     "evalue": "401 Incorrect API key provided: sk-1phsa***************************************8ZEY. You can find your API key at https://platform.openai.com/account/api-keys.",
     "output_type": "error",
     "traceback": [
      "Stack trace:",
      "Error: 401 Incorrect API key provided: sk-1phsa***************************************8ZEY. You can find your API key at https://platform.openai.com/account/api-keys.",
      "    at Function.generate (file:///C:/Users/zhaoHS/AppData/Local/deno/npm/registry.npmjs.org/openai/4.43.0/error.mjs:44:20)",
      "    at OpenAI.makeStatusError (file:///C:/Users/zhaoHS/AppData/Local/deno/npm/registry.npmjs.org/openai/4.43.0/core.mjs:256:25)",
      "    at OpenAI.makeRequest (file:///C:/Users/zhaoHS/AppData/Local/deno/npm/registry.npmjs.org/openai/4.43.0/core.mjs:299:30)",
      "    at eventLoopTick (ext:core/01_core.js:169:7)",
      "    at async <anonymous>:64:16"
     ]
    }
   ],
   "source": [
    "import OpenAI from \"openai\";\n",
    "import { load } from \"dotenv\";\n",
    "const env = await load();\n",
    "const process = { env };\n",
    "const openai = new OpenAI({\n",
    "  apiKey: process.env.OPENAI_API_KEY,\n",
    "  baseURL:process.env.baseUrl\n",
    "});\n",
    "\n",
    "function getCurrentWeather({ location, unit = \"fahrenheit\" }) {\n",
    "  console.log(1111);\n",
    "  const weather_info = {\n",
    "    location: location,\n",
    "    temperature: \"72\",\n",
    "    unit: unit,\n",
    "    forecast: [\"sunny\", \"windy\"],\n",
    "  };\n",
    "  return JSON.stringify(weather_info);\n",
    "}\n",
    "const tools = [\n",
    "  {\n",
    "    type: \"function\",\n",
    "    function: {\n",
    "      name: 'getCurrentWeather',\n",
    "      description: \"获取给定位置的天气信息\",\n",
    "      parameters: {\n",
    "        type: \"object\",\n",
    "        properties: {\n",
    "          location: {\n",
    "            type: \"string\",\n",
    "            description: \"The city and state, e.g. San Francisco, CA\",\n",
    "          },\n",
    "          unit: { type: \"string\", enum: [\"celsius\", \"fahrenheit\"] },\n",
    "        },\n",
    "        required: [\"location\"],\n",
    "      },\n",
    "    },\n",
    "  },\n",
    "];\n",
    "const messages = [\n",
    "  {\n",
    "    role: \"user\",\n",
    "    content: \"北京的天气怎么样\",\n",
    "  },\n",
    "];\n",
    "// let runner = openai.beta.chat.completions.runTools({\n",
    "//   model: \"gpt-3.5-turbo\",\n",
    "//   messages,\n",
    "//   tools,\n",
    "// });\n",
    "// let res = await runner.finalContent();\n",
    "const result = await openai.chat.completions.create({\n",
    "  model: \"gpt-3.5-turbo\",\n",
    "  messages,\n",
    "  tools,\n",
    "  tool_choice:{\n",
    "    type:'function',\n",
    "    function:{\n",
    "      name:\"getCurrentWeather\"\n",
    "    }\n",
    "  }\n",
    "});\n",
    "console.log(result);\n"
   ]
  }
 ],
 "metadata": {
  "kernelspec": {
   "display_name": "Deno",
   "language": "typescript",
   "name": "deno"
  },
  "language_info": {
   "file_extension": ".ts",
   "mimetype": "text/x.typescript",
   "name": "typescript",
   "nb_converter": "script",
   "pygments_lexer": "typescript",
   "version": "5.3.3"
  }
 },
 "nbformat": 4,
 "nbformat_minor": 2
}

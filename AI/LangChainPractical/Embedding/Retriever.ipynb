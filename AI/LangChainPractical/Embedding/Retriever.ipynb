{
 "cells": [
  {
   "cell_type": "markdown",
   "metadata": {},
   "source": [
    "Embedding 构建向量"
   ]
  },
  {
   "cell_type": "code",
   "execution_count": 1,
   "metadata": {},
   "outputs": [
    {
     "name": "stdout",
     "output_type": "stream",
     "text": [
      "Document {\n",
      "  pageContent: \"鲁镇的酒店的格局，是和别处不同的：都是当街一个曲尺形的大柜台，柜里面预备着热水，可以随时温酒。做工的人，傍午傍晚散了工，每每花四文铜钱，买一碗酒，——这是二十多年前的事，现在每碗要涨到十文，——靠柜外\",\n",
      "  metadata: { source: \"data/kong.txt\", loc: { lines: { from: 1, to: 1 } } }\n",
      "}\n",
      "[\n",
      "   0.017491372,   0.0005632728,   0.015193834,  -0.021402655,  -0.0067592734,\n",
      "  -0.010072241,    -0.02246937, -0.0057780333, -0.0074191317,   -0.030196207,\n",
      "  -0.009265367,    0.021703525,  -0.013046731,  0.0034223737,   -0.013190327,\n",
      "   0.018393977,   0.0064925947,   0.010291054,   0.027939698,   -0.012766377,\n",
      "   -0.03142703,    0.010933817,  0.0023607882, -0.0059113726,   -0.026120814,\n",
      "   0.018489707,    0.020171832,  -0.010680814,   -0.00170093,     0.01595968,\n",
      "  0.0001302408,   0.0025163507,   -0.02992269,   -0.01595968,   -0.005118175,\n",
      "  -0.002066758, -0.00013088186, -0.0028599557,   0.016260548,  -0.0056652077,\n",
      "  0.0004542936,   -0.007535376,  0.0149203185,   0.013839928,   -0.014140797,\n",
      "   0.019583773,    0.006119929,   0.013491195,  -0.014017714,  -0.0010188485,\n",
      "   0.006636191,   0.0084516555,  -0.030305615,  -0.008055057,   -0.008663631,\n",
      "  0.0024308767,   -0.004075394,    0.03227493, -0.0043386533,   -0.033177536,\n",
      "  -0.011097927,    0.008020868,  -0.047974773,    0.01353906,   -0.006328485,\n",
      "   0.008465332,   -0.019255552, -0.0065883254,   0.024698528,  0.00022736048,\n",
      "   0.033314295,     0.04890473,   0.008171301,  -0.008991851,    0.028938033,\n",
      "  -0.023877978,   -0.026585791, -0.0058600884,  -0.010899628,    0.008342249,\n",
      "   0.009607263,   -0.036350325,  -0.009538883,   0.006400283,    0.016930664,\n",
      "   0.022045419,  -0.0074259695,    0.03987869,  0.0008795261,   -0.030114153,\n",
      "   -0.00739178,   0.0021180424,   0.022606129,   0.018393977, -0.00020182517,\n",
      "   0.009108095,    0.030442372,   0.018571762,   0.008499521,   -0.020500053,\n",
      "  ... 1436 more items\n",
      "]\n"
     ]
    }
   ],
   "source": [
    "import { TextLoader } from \"langchain/document_loaders/fs/text\";\n",
    "import { RecursiveCharacterTextSplitter } from \"langchain/text_splitter\";\n",
    "import { OpenAIEmbeddings } from \"@langchain/openai\";\n",
    "import { load } from \"dotenv\";\n",
    "var env = await load();\n",
    "var process = { env };\n",
    "var loader = new TextLoader(\"data/kong.txt\");\n",
    "var docs = await loader.load();\n",
    "var splitter = new RecursiveCharacterTextSplitter({ chunkSize: 100, chunkOverlap: 20 });\n",
    "var splitDocs = await splitter.splitDocuments(docs);\n",
    "var embeddings = new OpenAIEmbeddings({\n",
    "    configuration: {\n",
    "        baseURL: process.env.baseURL,\n",
    "    },\n",
    "});\n",
    "console.log(splitDocs[0]);\n",
    "var res = await embeddings.embedQuery(splitDocs[0].pageContent)\n",
    "console.log(res);\n"
   ]
  },
  {
   "cell_type": "markdown",
   "metadata": {},
   "source": [
    "MemoryVectorStore 向量存储"
   ]
  },
  {
   "cell_type": "code",
   "execution_count": 2,
   "metadata": {},
   "outputs": [
    {
     "name": "stdout",
     "output_type": "stream",
     "text": [
      "[\n",
      "  Document {\n",
      "    pageContent: \"有喝酒的人便都看着他笑，有的叫道，“孔乙己，你脸上又添上新伤疤了！”他不回答，对柜里说，“温两碗酒，要一碟茴香豆。”便排出九文大钱。他们又故意的高声嚷道，“你一定又偷了人家的东西了！”孔乙己睁大眼睛说\",\n",
      "    metadata: { source: \"data/kong.txt\", loc: { lines: { from: 7, to: 7 } } }\n",
      "  },\n",
      "  Document {\n",
      "    pageContent: \"有几回，邻居孩子听得笑声，也赶热闹，围住了孔乙己。他便给他们一人一颗。孩子吃完豆，仍然不散，眼睛都望着碟子。孔乙己着了慌，伸开五指将碟子罩住，弯腰下去说道，“不多了，我已经不多了。”直起身又看一看豆\",\n",
      "    metadata: { source: \"data/kong.txt\", loc: { lines: { from: 15, to: 15 } } }\n",
      "  }\n",
      "]\n"
     ]
    }
   ],
   "source": [
    "import { MemoryVectorStore } from \"langchain/vectorstores/memory\";\n",
    "var vectorstore = new MemoryVectorStore(embeddings);\n",
    "await vectorstore.addDocuments(splitDocs);\n",
    "//每个输入，返回相似度最高的两个文本内容\n",
    "var retriever = vectorstore.asRetriever(2);\n",
    "var res = await retriever.invoke('茴香豆是做什么用的')\n",
    "console.log(res);\n"
   ]
  },
  {
   "cell_type": "code",
   "execution_count": 3,
   "metadata": {},
   "outputs": [
    {
     "name": "stdout",
     "output_type": "stream",
     "text": [
      "[\n",
      "  Document {\n",
      "    pageContent: \"顾客，多是短衣帮，大抵没有这样阔绰。只有穿长衫的，才踱进店面隔壁的房子里，要酒要菜，慢慢地坐喝。\",\n",
      "    metadata: { source: \"data/kong.txt\", loc: { lines: { from: 1, to: 1 } } }\n",
      "  },\n",
      "  Document {\n",
      "    pageContent: \"有喝酒的人便都看着他笑，有的叫道，“孔乙己，你脸上又添上新伤疤了！”他不回答，对柜里说，“温两碗酒，要一碟茴香豆。”便排出九文大钱。他们又故意的高声嚷道，“你一定又偷了人家的东西了！”孔乙己睁大眼睛说\",\n",
      "    metadata: { source: \"data/kong.txt\", loc: { lines: { from: 7, to: 7 } } }\n",
      "  }\n",
      "]\n"
     ]
    }
   ],
   "source": [
    "// 如果提问的特别简洁，并没有相应的关键词，就会出现提取的信息错误的问题\n",
    "var res = await retriever.invoke('下酒菜一般是什么？')\n",
    "console.log(res);"
   ]
  },
  {
   "cell_type": "code",
   "execution_count": 1,
   "metadata": {},
   "outputs": [
    {
     "ename": "ReferenceError",
     "evalue": "retriever is not defined",
     "output_type": "error",
     "traceback": [
      "Stack trace:",
      "ReferenceError: retriever is not defined",
      "    at <anonymous>:2:11"
     ]
    }
   ],
   "source": [
    "//如果涉及到多层语意理解才能构建出联系的情况就比较难说了\n",
    "var res = await retriever.invoke(\"孔乙己用什么谋生？\")\n",
    "console.log(res);"
   ]
  }
 ],
 "metadata": {
  "kernelspec": {
   "display_name": "Deno",
   "language": "typescript",
   "name": "deno"
  },
  "language_info": {
   "file_extension": ".ts",
   "mimetype": "text/x.typescript",
   "name": "typescript",
   "nb_converter": "script",
   "pygments_lexer": "typescript",
   "version": "5.3.3"
  }
 },
 "nbformat": 4,
 "nbformat_minor": 2
}

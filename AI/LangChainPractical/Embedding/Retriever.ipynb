{
 "cells": [
  {
   "cell_type": "markdown",
   "metadata": {},
   "source": []
  },
  {
   "cell_type": "code",
   "execution_count": 1,
   "metadata": {},
   "outputs": [
    {
     "name": "stdout",
     "output_type": "stream",
     "text": [
      "Document {\n",
      "  pageContent: \"鲁镇的酒店的格局，是和别处不同的：都是当街一个曲尺形的大柜台，柜里面预备着热水，可以随时温酒。做工的人，傍午傍晚散了工，每每花四文铜钱，买一碗酒，——这是二十多年前的事，现在每碗要涨到十文，——靠柜外\",\n",
      "  metadata: { source: \"data/kong.txt\", loc: { lines: { from: 1, to: 1 } } }\n",
      "}\n"
     ]
    },
    {
     "ename": "Error",
     "evalue": "401 Incorrect API key provided: sk-1phsa***************************************8ZEY. You can find your API key at https://platform.openai.com/account/api-keys.",
     "output_type": "error",
     "traceback": [
      "Stack trace:",
      "Error: 401 Incorrect API key provided: sk-1phsa***************************************8ZEY. You can find your API key at https://platform.openai.com/account/api-keys.",
      "    at Function.generate (file:///C:/Users/zhaoHS/AppData/Local/deno/npm/registry.npmjs.org/openai/4.43.0/error.mjs:44:20)",
      "    at OpenAI.makeStatusError (file:///C:/Users/zhaoHS/AppData/Local/deno/npm/registry.npmjs.org/openai/4.43.0/core.mjs:256:25)",
      "    at OpenAI.makeRequest (file:///C:/Users/zhaoHS/AppData/Local/deno/npm/registry.npmjs.org/openai/4.43.0/core.mjs:299:30)",
      "    at eventLoopTick (ext:core/01_core.js:169:7)",
      "    at async file:///C:/Users/zhaoHS/AppData/Local/deno/npm/registry.npmjs.org/@langchain/openai/0.0.22/dist/embeddings.js:252:29",
      "    at async RetryOperation._fn (file:///C:/Users/zhaoHS/AppData/Local/deno/npm/registry.npmjs.org/p-retry/4.6.2/index.js:50:12)"
     ]
    }
   ],
   "source": [
    "import { TextLoader } from \"langchain/document_loaders/fs/text\";\n",
    "import { RecursiveCharacterTextSplitter } from \"langchain/text_splitter\";\n",
    "import { OpenAIEmbeddings } from \"@langchain/openai\";\n",
    "import { load } from \"dotenv\";\n",
    "let env = await load();\n",
    "let process = { env };\n",
    "let loader = new TextLoader(\"data/kong.txt\");\n",
    "let docs = await loader.load();\n",
    "let splitter = new RecursiveCharacterTextSplitter({ chunkSize: 100, chunkOverlap: 20 });\n",
    "let splitDocs = await splitter.splitDocuments(docs);\n",
    "let embeddings = new OpenAIEmbeddings({\n",
    "    configuration: {\n",
    "        baseURL: process.env.baseURL,\n",
    "    },\n",
    "});\n",
    "console.log(splitDocs[0]);\n",
    "let res = await embeddings.embedQuery(splitDocs[0].pageContent)\n",
    "console.log(res);\n"
   ]
  },
  {
   "cell_type": "code",
   "execution_count": 3,
   "metadata": {},
   "outputs": [
    {
     "data": {
      "text/plain": [
       "\u001b[32m\"好的，这是一个经典的笑话：\\n\"\u001b[39m +\n",
       "  \u001b[32m\"\\n\"\u001b[39m +\n",
       "  \u001b[32m\"有一天，一只猴子和一只大象一起洗澡。猴子说：“哇，你的鼻子真长啊！”大象听后有些尴尬地说：“你怎么不说说你的屁股真小呢？”猴子马上回答：“不错，不错，你说得对，但是这不能\"\u001b[39m... 13 more characters"
      ]
     },
     "execution_count": 3,
     "metadata": {},
     "output_type": "execute_result"
    }
   ],
   "source": []
  }
 ],
 "metadata": {
  "kernelspec": {
   "display_name": "Deno",
   "language": "typescript",
   "name": "deno"
  },
  "language_info": {
   "file_extension": ".ts",
   "mimetype": "text/x.typescript",
   "name": "typescript",
   "nb_converter": "script",
   "pygments_lexer": "typescript",
   "version": "5.3.3"
  }
 },
 "nbformat": 4,
 "nbformat_minor": 2
}

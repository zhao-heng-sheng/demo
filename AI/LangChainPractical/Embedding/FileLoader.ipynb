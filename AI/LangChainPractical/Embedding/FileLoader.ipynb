{
 "cells": [
  {
   "cell_type": "markdown",
   "metadata": {},
   "source": [
    "TextLoader 加载文本文件"
   ]
  },
  {
   "cell_type": "code",
   "execution_count": 1,
   "metadata": {},
   "outputs": [
    {
     "name": "stdout",
     "output_type": "stream",
     "text": [
      "[\n",
      "  Document {\n",
      "    pageContent: \"三体前传：球状闪电 作者：刘慈欣\\r\\n\" +\n",
      "      \"\\r\\n\" +\n",
      "      \"内容简介：\\r\\n\" +\n",
      "      \"　　没有《球状闪电》，就没有后来的《三体》！\\r\\n\" +\n",
      "      \"　　《三体》前传！\\r\\n\" +\n",
      "      \"　　亚洲首位雨果奖得主刘慈欣的三大长篇之一！（《三体》《球状闪电》《超新星纪\"... 192095 more characters,\n",
      "    metadata: { source: \"data/qiu.txt\" }\n",
      "  }\n",
      "]\n"
     ]
    }
   ],
   "source": [
    "import { TextLoader } from \"langchain/document_loaders/fs/text\"; \n",
    "let loader = new TextLoader('data/qiu.txt');\n",
    "let docs = await loader.load();\n",
    "console.log(docs);"
   ]
  },
  {
   "cell_type": "markdown",
   "metadata": {},
   "source": [
    "PDFLoader 加载PDF文件"
   ]
  },
  {
   "cell_type": "code",
   "execution_count": 2,
   "metadata": {},
   "outputs": [
    {
     "name": "stdout",
     "output_type": "stream",
     "text": [
      "[\n",
      "  Document {\n",
      "    pageContent: \"2024/3/24 20:59\\n\" +\n",
      "      \"如何使用 github copilot 完成 50% 的日常工作\\n\" +\n",
      "      \"https://kaiyi.cool/blog/github-copilot1/14\\n\" +\n",
      "      \"如何使用 git\"... 6530 more characters,\n",
      "    metadata: {\n",
      "      source: \"data/github-copliot.pdf\",\n",
      "      pdf: {\n",
      "        version: \"1.10.100\",\n",
      "        info: {\n",
      "          PDFFormatVersion: \"1.4\",\n",
      "          IsAcroFormPresent: false,\n",
      "          IsXFAPresent: false,\n",
      "          Title: \"如何使用 github copilot 完成 50% 的日常工作\",\n",
      "          Creator: \"Mozilla/5.0 (Macintosh; Intel Mac OS X 10_15_7) AppleWebKit/537.36 (KHTML, like Gecko) Chrome/123.0.\"... 17 more characters,\n",
      "          Producer: \"Skia/PDF m123\",\n",
      "          CreationDate: \"D:20240324125917+00'00'\",\n",
      "          ModDate: \"D:20240324125917+00'00'\"\n",
      "        },\n",
      "        metadata: null,\n",
      "        totalPages: 14\n",
      "      }\n",
      "    }\n",
      "  }\n",
      "]\n"
     ]
    }
   ],
   "source": [
    "import * as pdfParse from \"pdf-parse\";\n",
    "import { PDFLoader } from \"langchain/document_loaders/fs/pdf\";\n",
    "// splitPages 是否分页\n",
    "let loader = new PDFLoader(\"data/github-copliot.pdf\",{splitPages:false});\n",
    "let pdfs = await loader.load();\n",
    "console.log(pdfs);\n"
   ]
  },
  {
   "cell_type": "markdown",
   "metadata": {},
   "source": [
    "DirectoryLoader 加载目录下多种格式文件"
   ]
  },
  {
   "cell_type": "code",
   "execution_count": 4,
   "metadata": {},
   "outputs": [
    {
     "name": "stdout",
     "output_type": "stream",
     "text": [
      "[\n",
      "  Document {\n",
      "    pageContent: \"2024/3/24 20:59\\n\" +\n",
      "      \"如何使用 github copilot 完成 50% 的日常工作\\n\" +\n",
      "      \"https://kaiyi.cool/blog/github-copilot1/14\\n\" +\n",
      "      \"如何使用 git\"... 6530 more characters,\n",
      "    metadata: {\n",
      "      source: \"c:\\\\project\\\\demo\\\\AI\\\\LangChainPractical\\\\Embedding\\\\data\\\\github-copliot.pdf\",\n",
      "      pdf: {\n",
      "        version: \"1.10.100\",\n",
      "        info: {\n",
      "          PDFFormatVersion: \"1.4\",\n",
      "          IsAcroFormPresent: false,\n",
      "          IsXFAPresent: false,\n",
      "          Title: \"如何使用 github copilot 完成 50% 的日常工作\",\n",
      "          Creator: \"Mozilla/5.0 (Macintosh; Intel Mac OS X 10_15_7) AppleWebKit/537.36 (KHTML, like Gecko) Chrome/123.0.\"... 17 more characters,\n",
      "          Producer: \"Skia/PDF m123\",\n",
      "          CreationDate: \"D:20240324125917+00'00'\",\n",
      "          ModDate: \"D:20240324125917+00'00'\"\n",
      "        },\n",
      "        metadata: null,\n",
      "        totalPages: 14\n",
      "      }\n",
      "    }\n",
      "  },\n",
      "  Document {\n",
      "    pageContent: \"鲁镇的酒店的格局，是和别处不同的：都是当街一个曲尺形的大柜台，柜里面预备着热水，可以随时温酒。做工的人，傍午傍晚散了工，每每花四文铜钱，买一碗酒，——这是二十多年前的事，现在每碗要涨到十文，——靠柜外\"... 2174 more characters,\n",
      "    metadata: {\n",
      "      source: \"c:\\\\project\\\\demo\\\\AI\\\\LangChainPractical\\\\Embedding\\\\data\\\\kong.txt\"\n",
      "    }\n",
      "  },\n",
      "  Document {\n",
      "    pageContent: \"三体前传：球状闪电 作者：刘慈欣\\r\\n\" +\n",
      "      \"\\r\\n\" +\n",
      "      \"内容简介：\\r\\n\" +\n",
      "      \"　　没有《球状闪电》，就没有后来的《三体》！\\r\\n\" +\n",
      "      \"　　《三体》前传！\\r\\n\" +\n",
      "      \"　　亚洲首位雨果奖得主刘慈欣的三大长篇之一！（《三体》《球状闪电》《超新星纪\"... 192095 more characters,\n",
      "    metadata: {\n",
      "      source: \"c:\\\\project\\\\demo\\\\AI\\\\LangChainPractical\\\\Embedding\\\\data\\\\qiu.txt\"\n",
      "    }\n",
      "  }\n",
      "]\n"
     ]
    }
   ],
   "source": [
    "import { DirectoryLoader } from \"langchain/document_loaders/fs/directory\";\n",
    "let loader = new DirectoryLoader(\"./data\", {\n",
    "    \".pdf\": (path) => new PDFLoader(path, { splitPages: false }),\n",
    "    \".txt\": (path) => new TextLoader(path),\n",
    "});\n",
    "let docs = await loader.load();\n",
    "console.log(docs);\n"
   ]
  }
 ],
 "metadata": {
  "kernelspec": {
   "display_name": "Deno",
   "language": "typescript",
   "name": "deno"
  },
  "language_info": {
   "file_extension": ".ts",
   "mimetype": "text/x.typescript",
   "name": "typescript",
   "nb_converter": "script",
   "pygments_lexer": "typescript",
   "version": "5.3.3"
  }
 },
 "nbformat": 4,
 "nbformat_minor": 2
}

{
 "cells": [
  {
   "cell_type": "markdown",
   "metadata": {},
<<<<<<< HEAD
   "source": [
    "GitHub loader"
   ]
=======
   "source": []
>>>>>>> f62e21893e08b7b3a1399b8b36585ee00fcdf5ab
  },
  {
   "cell_type": "code",
   "execution_count": null,
   "metadata": {},
   "outputs": [],
<<<<<<< HEAD
   "source": [
    "import { GithubRepoLoader } from \"langchain/document_loaders/web/github\"; \n",
    "import ignore from \"ignore\";\n",
    "let loader = new GithubRepoLoader(\n",
    "  \"\"\n",
    ")"
   ]
=======
   "source": []
>>>>>>> f62e21893e08b7b3a1399b8b36585ee00fcdf5ab
  }
 ],
 "metadata": {
  "kernelspec": {
   "display_name": "Deno",
   "language": "typescript",
   "name": "deno"
  },
  "language_info": {
<<<<<<< HEAD
   "file_extension": ".ts",
   "mimetype": "text/x.typescript",
   "name": "typescript",
   "nb_converter": "script",
   "pygments_lexer": "typescript",
   "version": "5.3.3"
=======
   "name": "typescript"
>>>>>>> f62e21893e08b7b3a1399b8b36585ee00fcdf5ab
  }
 },
 "nbformat": 4,
 "nbformat_minor": 2
}

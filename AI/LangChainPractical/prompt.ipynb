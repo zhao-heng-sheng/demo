{
 "cells": [
  {
   "cell_type": "markdown",
   "metadata": {},
   "source": [
    "无变量 template"
   ]
  },
  {
   "cell_type": "markdown",
   "metadata": {},
   "source": []
  },
  {
   "cell_type": "code",
   "execution_count": 2,
   "metadata": {},
   "outputs": [],
   "source": [
    "import { PromptTemplate } from \"@langchain/core/prompts\";"
   ]
  },
  {
   "cell_type": "code",
   "execution_count": 3,
   "metadata": {},
   "outputs": [
    {
     "name": "stdout",
     "output_type": "stream",
     "text": [
      "你好\n"
     ]
    }
   ],
   "source": [
    "let greetingPrompt = new PromptTemplate({\n",
    "  inputVariables: [],\n",
    "  template:\"你好\"\n",
    "})\n",
    "let formattedGreetingPrompt = await greetingPrompt.format();\n",
    "console.log(formattedGreetingPrompt);\n"
   ]
  },
  {
   "cell_type": "markdown",
   "metadata": {},
   "source": [
    "含变量template"
   ]
  },
  {
   "cell_type": "code",
   "execution_count": 4,
   "metadata": {},
   "outputs": [
    {
     "name": "stdout",
     "output_type": "stream",
     "text": [
      "你好，小明，你今年18岁了吗？\n"
     ]
    }
   ],
   "source": [
    "let personalizedGreetingPrompt = new PromptTemplate({\n",
    "  inputVariables: [\"name\", \"age\"],\n",
    "  template:\"你好，{name}，你今年{age}岁了吗？\"\n",
    "})\n",
    "let formattedPersonalizedGreetingPrompt = await personalizedGreetingPrompt.format({name:\"小明\", age: 18});\n",
    "console.log(formattedPersonalizedGreetingPrompt);"
   ]
  },
  {
   "cell_type": "markdown",
   "metadata": {},
   "source": [
    "简便创建方式"
   ]
  },
  {
   "cell_type": "code",
   "execution_count": 5,
   "metadata": {},
   "outputs": [
    {
     "name": "stdout",
     "output_type": "stream",
     "text": [
      "autoInferTemplate.inputVariables:  [ \"name\", \"age\" ]\n",
      "你好，小明，你今年18岁了吗\n"
     ]
    }
   ],
   "source": [
    "let autoInferTemplate = PromptTemplate.fromTemplate(\"你好，{name}，你今年{age}岁了吗\")\n",
    "console.log('autoInferTemplate.inputVariables: ', autoInferTemplate.inputVariables);\n",
    "let formattedAutoInferTemplate = await autoInferTemplate.format({name:\"小明\", age: 18});\n",
    "console.log(formattedAutoInferTemplate);"
   ]
  },
  {
   "cell_type": "markdown",
   "metadata": {},
   "source": [
    "使用部分参数创建template"
   ]
  },
  {
   "cell_type": "code",
   "execution_count": 6,
   "metadata": {},
   "outputs": [
    {
     "name": "stdout",
     "output_type": "stream",
     "text": [
      "这是一个工具，他是锤子。\n",
      "这是一个工具，他是铲子。\n"
     ]
    }
   ],
   "source": [
    "let initialPrompt = new PromptTemplate({\n",
    "    template: \"这是一个{type}，他是{item}。\",\n",
    "    inputVariables: [\"type\", \"item\"],\n",
    "});\n",
    "let partialedPrompt = await initialPrompt.partial({\n",
    "    type: \"工具\",\n",
    "});\n",
    "let formattedPrompt = await partialedPrompt.format({\n",
    "    item: \"锤子\",\n",
    "})\n",
    "console.log(formattedPrompt);\n",
    "let partialedPrompt2 = await partialedPrompt.format({item:\"铲子\"})\n",
    "console.log(partialedPrompt2);\n"
   ]
  },
  {
   "cell_type": "markdown",
   "metadata": {},
   "source": [
    "动态填充参数"
   ]
  },
  {
   "cell_type": "code",
   "execution_count": 7,
   "metadata": {},
   "outputs": [
    {
     "name": "stdout",
     "output_type": "stream",
     "text": [
      "今天是2024/6/12，我们去爬山\n"
     ]
    }
   ],
   "source": [
    "let getCurrentDateStr = () => {\n",
    "    return new Date().toLocaleDateString();\n",
    "};\n",
    "let promptWithDate = new PromptTemplate({\n",
    "    template: \"今天是{date}，{activity}\",\n",
    "    inputVariables: [\"date\", \"activity\"],\n",
    "});\n",
    "let partialedPromptWithDate = await promptWithDate.partial({\n",
    "    date: getCurrentDateStr(),\n",
    "});\n",
    "let formattedPromptWithDate = await partialedPromptWithDate.format({\n",
    "  activity:\"我们去爬山\",\n",
    "})\n",
    "console.log(formattedPromptWithDate);\n",
    "\n",
    "\n"
   ]
  },
  {
   "cell_type": "code",
   "execution_count": 9,
   "metadata": {},
   "outputs": [
    {
     "name": "stdout",
     "output_type": "stream",
     "text": [
      "下午好，今天是2024/6/12，!\n"
     ]
    },
    {
     "ename": "",
     "evalue": "",
     "output_type": "error",
     "traceback": [
      "\u001b[1;31m在当前单元格或上一个单元格中执行代码时 Kernel 崩溃。\n",
      "\u001b[1;31m请查看单元格中的代码，以确定故障的可能原因。\n",
      "\u001b[1;31m单击<a href='https://aka.ms/vscodeJupyterKernelCrash'>此处</a>了解详细信息。\n",
      "\u001b[1;31m有关更多详细信息，请查看 Jupyter <a href='command:jupyter.viewOutput'>log</a>。"
     ]
    }
   ],
   "source": [
    "let getCurrentDateStr = () => {\n",
    "    return new Date().toLocaleDateString();\n",
    "};\n",
    "let generateGreeting = (timeOfDay) => {\n",
    "    return () => {\n",
    "        let date = getCurrentDateStr();\n",
    "        switch (timeOfDay) {\n",
    "            case \"morning\":\n",
    "                return `早上好，今天是${date}，`;\n",
    "            case \"afternoon\":\n",
    "                return `下午好，今天是${date}，`;\n",
    "            case \"evening\":\n",
    "                return `晚上好，今天是${date}，`;\n",
    "            default:\n",
    "                return `你好，今天是${date}`;\n",
    "        }\n",
    "    };\n",
    "};\n",
    "let prompt = new PromptTemplate({\n",
    "    template: \"{greeting}!\",\n",
    "    inputVariables: [\"greeting\"],\n",
    "});\n",
    "let currentTimeOfDay = \"afternoon\";\n",
    "let partialPrompt = await prompt.partial({\n",
    "    greeting: generateGreeting(currentTimeOfDay),\n",
    "});\n",
    "let formattedPrompt = await partialPrompt.format();\n",
    "console.log(formattedPrompt);\n"
   ]
  },
  {
   "cell_type": "code",
   "execution_count": null,
   "metadata": {},
   "outputs": [],
   "source": []
  }
 ],
 "metadata": {
  "kernelspec": {
   "display_name": "Deno",
   "language": "typescript",
   "name": "deno"
  },
  "language_info": {
   "file_extension": ".ts",
   "mimetype": "text/x.typescript",
   "name": "typescript",
   "nb_converter": "script",
   "pygments_lexer": "typescript",
   "version": "5.3.3"
  }
 },
 "nbformat": 4,
 "nbformat_minor": 2
}

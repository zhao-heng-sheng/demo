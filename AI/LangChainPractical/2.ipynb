{
 "cells": [
  {
   "cell_type": "markdown",
   "metadata": {},
   "source": [
    "无变量 template"
   ]
  },
  {
   "cell_type": "markdown",
   "metadata": {},
   "source": []
  },
  {
   "cell_type": "code",
   "execution_count": 5,
   "metadata": {},
   "outputs": [],
   "source": [
    "import { PromptTemplate } from \"@langchain/core/prompts\";"
   ]
  },
  {
   "cell_type": "code",
   "execution_count": 6,
   "metadata": {},
   "outputs": [
    {
     "name": "stdout",
     "output_type": "stream",
     "text": [
      "你好\n"
     ]
    }
   ],
   "source": [
    "const greetingPrompt = new PromptTemplate({\n",
    "  inputVariables: [],\n",
    "  template:\"你好\"\n",
    "})\n",
    "const formattedGreetingPrompt = await greetingPrompt.format();\n",
    "console.log(formattedGreetingPrompt);\n"
   ]
  },
  {
   "cell_type": "markdown",
   "metadata": {},
   "source": [
    "含变量template"
   ]
  },
  {
   "cell_type": "code",
   "execution_count": 7,
   "metadata": {},
   "outputs": [
    {
     "name": "stdout",
     "output_type": "stream",
     "text": [
      "你好，小明，你今年18岁了吗？\n"
     ]
    }
   ],
   "source": [
    "const personalizedGreetingPrompt = new PromptTemplate({\n",
    "  inputVariables: [\"name\", \"age\"],\n",
    "  template:\"你好，{name}，你今年{age}岁了吗？\"\n",
    "})\n",
    "const formattedPersonalizedGreetingPrompt = await personalizedGreetingPrompt.format({name:\"小明\", age: 18});\n",
    "console.log(formattedPersonalizedGreetingPrompt);"
   ]
  },
  {
   "cell_type": "markdown",
   "metadata": {},
   "source": [
    "简便创建方式"
   ]
  },
  {
   "cell_type": "code",
   "execution_count": 8,
   "metadata": {},
   "outputs": [
    {
     "name": "stdout",
     "output_type": "stream",
     "text": [
      "autoInferTemplate.inputVariables:  [ \"name\", \"age\" ]\n",
      "你好，小明，你今年18岁了吗\n"
     ]
    }
   ],
   "source": [
    "const autoInferTemplate = PromptTemplate.fromTemplate(\"你好，{name}，你今年{age}岁了吗\")\n",
    "console.log('autoInferTemplate.inputVariables: ', autoInferTemplate.inputVariables);\n",
    "const formattedAutoInferTemplate = await autoInferTemplate.format({name:\"小明\", age: 18});\n",
    "console.log(formattedAutoInferTemplate);"
   ]
  }
 ],
 "metadata": {
  "kernelspec": {
   "display_name": "Deno",
   "language": "typescript",
   "name": "deno"
  },
  "language_info": {
   "file_extension": ".ts",
   "mimetype": "text/x.typescript",
   "name": "typescript",
   "nb_converter": "script",
   "pygments_lexer": "typescript",
   "version": "5.3.3"
  }
 },
 "nbformat": 4,
 "nbformat_minor": 2
}

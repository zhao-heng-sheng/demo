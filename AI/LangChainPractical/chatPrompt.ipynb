{
 "cells": [
  {
   "cell_type": "code",
   "execution_count": 1,
   "metadata": {},
   "outputs": [
    {
     "name": "stdout",
     "output_type": "stream",
     "text": [
      "[\n",
      "  SystemMessage {\n",
      "    lc_serializable: true,\n",
      "    lc_kwargs: {\n",
      "      content: \"你是一个专业的翻译员，你的任务是从中文翻译成韩语。\",\n",
      "      additional_kwargs: {},\n",
      "      response_metadata: {}\n",
      "    },\n",
      "    lc_namespace: [ \"langchain_core\", \"messages\" ],\n",
      "    content: \"你是一个专业的翻译员，你的任务是从中文翻译成韩语。\",\n",
      "    name: undefined,\n",
      "    additional_kwargs: {},\n",
      "    response_metadata: {}\n",
      "  },\n",
      "  HumanMessage {\n",
      "    lc_serializable: true,\n",
      "    lc_kwargs: {\n",
      "      content: \"请翻译这句话你好，世界\",\n",
      "      additional_kwargs: {},\n",
      "      response_metadata: {}\n",
      "    },\n",
      "    lc_namespace: [ \"langchain_core\", \"messages\" ],\n",
      "    content: \"请翻译这句话你好，世界\",\n",
      "    name: undefined,\n",
      "    additional_kwargs: {},\n",
      "    response_metadata: {}\n",
      "  }\n",
      "]\n"
     ]
    }
   ],
   "source": [
    "import { SystemMessagePromptTemplate, HumanMessagePromptTemplate ,ChatPromptTemplate} from \"@langchain/core/prompts\";\n",
    "let translateInstructionTemplate = SystemMessagePromptTemplate.fromTemplate(`你是一个专业的翻译员，你的任务是从{source_lang}翻译成{target_lang}。`);\n",
    "let userQuestionTemplate = HumanMessagePromptTemplate.fromTemplate('请翻译这句话{text}')\n",
    "\n",
    "let chatPrompt = await ChatPromptTemplate.fromMessages([\n",
    "  translateInstructionTemplate,\n",
    "  userQuestionTemplate,\n",
    "])\n",
    "let fromattedChatPrompt = await chatPrompt.formatMessages({\n",
    "  source_lang: '中文',\n",
    "  target_lang: '韩语',\n",
    "  text: '你好，世界'\n",
    "})\n",
    "console.log(fromattedChatPrompt)"
   ]
  },
  {
   "cell_type": "code",
   "execution_count": 2,
   "metadata": {},
   "outputs": [
    {
     "data": {
      "text/plain": [
       "\u001b[32m\"안녕하세요, 세상\"\u001b[39m"
      ]
     },
     "execution_count": 2,
     "metadata": {},
     "output_type": "execute_result"
    }
   ],
   "source": [
    "import { load } from \"dotenv\";\n",
    "import { ChatOpenAI } from \"@langchain/openai\";\n",
    "import { StringOutputParser } from \"@langchain/core/output_parsers\";\n",
    "\n",
    "const env = await load();\n",
    "const process = { env };\n",
    "\n",
    "const chatModel = new ChatOpenAI({\n",
    "    configuration: {\n",
    "        baseURL: process.env.baseURL,\n",
    "    },\n",
    "});\n",
    "const outputPraser = new StringOutputParser();\n",
    "\n",
    "const chain = chatPrompt.pipe(chatModel).pipe(outputPraser);\n",
    "await chain.invoke({\n",
    "    source_lang: \"中文\",\n",
    "    target_lang: \"韩文\",\n",
    "    text: \"你好，世界\",\n",
    "});\n"
   ]
  },
  {
   "cell_type": "markdown",
   "metadata": {},
   "source": [
    "组合多个Prompt"
   ]
  },
  {
   "cell_type": "code",
   "execution_count": 3,
   "metadata": {},
   "outputs": [
    {
     "name": "stdout",
     "output_type": "stream",
     "text": [
      "\n",
      "你是一个智能管家，今天是2024/6/13,现在是早上，你的主人的信息是姓名是张三，性别是male，\n",
      "根据上下文，完成主人的需求\n",
      "我想吃早上的lemon。\n",
      "  再重复一遍我的信息姓名是张三，性别是male\n",
      "\n"
     ]
    }
   ],
   "source": [
    "import { PromptTemplate, PipelinePromptTemplate } from \"@langchain/core/prompts\";\n",
    "let getCurrentDateStr = () => {\n",
    "    return new Date().toLocaleDateString();\n",
    "};\n",
    "let fullPrompt = PromptTemplate.fromTemplate(`\n",
    "你是一个智能管家，今天是{date}，你的主人的信息是{info}，\n",
    "根据上下文，完成主人的需求\n",
    "{task}\n",
    "`);\n",
    "const datePrompt = PromptTemplate.fromTemplate(`{date},现在是{period}`);\n",
    "let periodPrompt = await datePrompt.partial({\n",
    "    date: getCurrentDateStr,\n",
    "});\n",
    "\n",
    "let infoPrompt = PromptTemplate.fromTemplate(`姓名是{name}，性别是{gender}`);\n",
    "\n",
    "const taskPrompt = PromptTemplate.fromTemplate(`我想吃{period}的{food}。\n",
    "  再重复一遍我的信息{info}`);\n",
    "\n",
    "let composedPrompt = new PipelinePromptTemplate({\n",
    "    pipelinePrompts: [\n",
    "        {\n",
    "            name: \"date\",\n",
    "            prompt: periodPrompt,\n",
    "        },\n",
    "        {\n",
    "            name: \"info\",\n",
    "            prompt: infoPrompt,\n",
    "        },\n",
    "        {\n",
    "            name: \"task\",\n",
    "            prompt: taskPrompt,\n",
    "        },\n",
    "    ],\n",
    "    finalPrompt: fullPrompt,\n",
    "});\n",
    "\n",
    "let formattedPrompt = await composedPrompt.format({\n",
    "    period: \"早上\",\n",
    "    name: \"张三\",\n",
    "    gender: \"male\",\n",
    "    food: \"lemon\",\n",
    "});\n",
    "console.log(formattedPrompt);\n"
   ]
  },
  {
   "cell_type": "markdown",
   "metadata": {},
   "source": []
  }
 ],
 "metadata": {
  "kernelspec": {
   "display_name": "Deno",
   "language": "typescript",
   "name": "deno"
  },
  "language_info": {
   "file_extension": ".ts",
   "mimetype": "text/x.typescript",
   "name": "typescript",
   "nb_converter": "script",
   "pygments_lexer": "typescript",
   "version": "5.3.3"
  }
 },
 "nbformat": 4,
 "nbformat_minor": 2
}

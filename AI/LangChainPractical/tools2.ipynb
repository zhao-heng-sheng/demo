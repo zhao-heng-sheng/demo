{
 "cells": [
  {
   "cell_type": "code",
   "execution_count": 1,
   "metadata": {},
   "outputs": [
    {
     "name": "stderr",
     "output_type": "stream",
     "text": [
      "[WARNING]: Importing from \"langchain/chat_models/openai\" is deprecated.\n",
      "\n",
      "Instead, please add the \"@langchain/openai\" package to your project with e.g.\n",
      "\n",
      "    $ npm install @langchain/openai\n",
      "\n",
      "and import from \"@langchain/openai\".\n",
      "\n",
      "This will be mandatory after the next \"langchain\" minor version bump to 0.2.\n"
     ]
    }
   ],
   "source": [
    "import z from \"zod\";\n",
    "import { zodToJsonSchema } from \"zod-to-json-schema\";\n",
    "import { ChatOpenAI } from \"langchain/chat_models/openai\";\n",
    "\n",
    "import { load } from \"dotenv\";\n",
    "const env = await load();\n",
    "const process = { env };\n",
    "function getCurrentWeather({ location, unit = \"fahrenheit\" }) {\n",
    "  console.log(\"123\");\n",
    "  const weather_info = {\n",
    "    location: location,\n",
    "    temperature: \"72\",\n",
    "    unit: unit,\n",
    "    forecast: [\"sunny\", \"windy\"],\n",
    "  };\n",
    "  return JSON.stringify(weather_info);\n",
    "}\n",
    "const getCurrentWeatherSchema = z.object({\n",
    "  location: z.string().describe(\"城市或地区。例如：'北京'\"),\n",
    "  unit: z.enum([\"celsius\", \"fahrenheit\"]).optional().describe(\"温度单位。默认值：'fahrenheit'\"),\n",
    "});\n",
    "const model = new ChatOpenAI({\n",
    "  configuration: {\n",
    "    baseURL: process.env.baseURL,\n",
    "  },\n",
    "  model: process.env.model,\n",
    "});\n",
    "const modelWithTools = model.bind({\n",
    "  tools: [\n",
    "    {\n",
    "      type: \"function\",\n",
    "      function: {\n",
    "        name: \"getCurrentWeather\",\n",
    "        description: \"Get the current weather in a given location\",\n",
    "        parameters: zodToJsonSchema(getCurrentWeatherSchema),\n",
    "      },\n",
    "    },\n",
    "  ],\n",
    "  // tool_choice: {\n",
    "  //   type: \"function\",\n",
    "  //   function: {\n",
    "  //     name: \"getCurrentWeather\",\n",
    "  //   }\n",
    "  // }\n",
    "});\n",
    "await modelWithTools.invoke(\"上海的天气怎么样\");\n"
   ]
  },
  {
   "cell_type": "code",
   "execution_count": null,
   "metadata": {},
   "outputs": [],
   "source": [
    "import { ChatPromptTemplate } from \"@langchain/core/prompts\";\n",
    "const prompt = ChatPromptTemplate.fromMessages([\n",
    "  [\"system\", \"你是一个乐于助人的助手\"],\n",
    "  [\"human\", \"{input}\"],\n",
    "]);\n",
    "const chain = prompt.pipe(modelWithTools);\n",
    "let res = await chain.invoke({\n",
    "  input: \"上海的天气怎么样\",\n",
    "});\n",
    "console.log(res);\n"
   ]
  },
  {
   "cell_type": "code",
   "execution_count": null,
   "metadata": {},
   "outputs": [],
   "source": []
  }
 ],
 "metadata": {
  "kernelspec": {
   "display_name": "Deno",
   "language": "typescript",
   "name": "deno"
  },
  "language_info": {
   "file_extension": ".ts",
   "mimetype": "text/x.typescript",
   "name": "typescript",
   "nb_converter": "script",
   "pygments_lexer": "typescript",
   "version": "5.3.3"
  }
 },
 "nbformat": 4,
 "nbformat_minor": 2
}

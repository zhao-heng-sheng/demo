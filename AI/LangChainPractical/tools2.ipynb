{
 "cells": [
  {
   "cell_type": "code",
   "execution_count": null,
   "metadata": {},
   "outputs": [],
   "source": [
    "import z from 'zod'\n",
    "// 基础类型\n",
    "let stringSchema = z.string()\n",
    "let numberSchema = z.number()\n",
    "let booleanSchema = z.boolean()\n",
    "// 数组\n",
    "let stringArraySchema = z.array(z.string())\n",
    "//对象\n",
    "const personSchema = z.object({\n",
    "  name: z.string(),\n",
    "  age: z.number(),\n",
    "  // 可选\n",
    "  isStudent: z.boolean().optional(),\n",
    "  // 默认值\n",
    "  home: z.string().default('earth')\n",
    "})"
   ]
  }
 ],
 "metadata": {
  "kernelspec": {
   "display_name": "Deno",
   "language": "typescript",
   "name": "deno"
  },
  "language_info": {
   "name": "typescript"
  }
 },
 "nbformat": 4,
 "nbformat_minor": 2
}

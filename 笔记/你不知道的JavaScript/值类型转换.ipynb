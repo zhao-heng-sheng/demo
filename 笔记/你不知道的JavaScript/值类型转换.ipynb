{
 "cells": [
  {
   "cell_type": "code",
   "execution_count": 1,
   "metadata": {},
   "outputs": [
    {
     "name": "stdout",
     "output_type": "stream",
     "text": [
      "number string string\n"
     ]
    }
   ],
   "source": [
    "var a = 42;\n",
    "var b = a + \"\"; //隐式强制类型转换\n",
    "var c = String(a); //显式强制类型转换\n",
    "console.log(typeof a,typeof b, typeof c);\n"
   ]
  },
  {
   "cell_type": "markdown",
   "metadata": {},
   "source": [
    "JSON字符串化"
   ]
  },
  {
   "cell_type": "code",
   "execution_count": 4,
   "metadata": {},
   "outputs": [
    {
     "data": {
      "text/plain": [
       "\u001b[32m'{\"a\":42,\"b\":\"42\",\"c\":null,\"g\":null,\"h\":[1,null,null,2]}'\u001b[39m"
      ]
     },
     "execution_count": 4,
     "metadata": {},
     "output_type": "execute_result"
    }
   ],
   "source": [
    "JSON.stringify({\n",
    "  a: 42,\n",
    "  b:\"42\",\n",
    "  c: null,\n",
    "  d: undefined, //undefined会被忽略\n",
    "  e: function() {}, //function会被忽略\n",
    "  f: Symbol(),  //Symbol会被忽略\n",
    "  g: NaN, //NaN会被转换为null\n",
    "  h:[1,null,undefined,2] //数组中的undefined,Symbol会被转换为null\n",
    "})"
   ]
  },
  {
   "cell_type": "code",
   "execution_count": 11,
   "metadata": {},
   "outputs": [
    {
     "name": "stdout",
     "output_type": "stream",
     "text": [
      "{\n",
      "  \"b\": 42,\n",
      "  \"c\": \"42\"\n",
      "}\n",
      "{\n",
      "-\"b\": 42,\n",
      "-\"d\": [\n",
      "--1,\n",
      "--2,\n",
      "--3\n",
      "-]\n",
      "}\n"
     ]
    }
   ],
   "source": [
    "var a = {\n",
    "  b:42,\n",
    "  c:\"42\",\n",
    "  d:[1,2,3]\n",
    "}\n",
    "console.log(JSON.stringify(a,['b','c'],2),)\n",
    "console.log(\n",
    "  JSON.stringify(a,(key,value)=>{\n",
    "    if(key!=='c') return value\n",
    "  },'-')\n",
    ")"
   ]
  },
  {
   "cell_type": "code",
   "execution_count": null,
   "metadata": {},
   "outputs": [],
   "source": []
  }
 ],
 "metadata": {
  "kernelspec": {
   "display_name": "Deno",
   "language": "typescript",
   "name": "deno"
  },
  "language_info": {
   "file_extension": ".ts",
   "mimetype": "text/x.typescript",
   "name": "typescript",
   "nb_converter": "script",
   "pygments_lexer": "typescript",
   "version": "5.3.3"
  }
 },
 "nbformat": 4,
 "nbformat_minor": 2
}
